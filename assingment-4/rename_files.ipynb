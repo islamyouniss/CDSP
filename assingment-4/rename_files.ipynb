{
 "cells": [
  {
   "cell_type": "code",
   "execution_count": 11,
   "metadata": {
    "collapsed": true,
    "pycharm": {
     "name": "#%%\n"
    }
   },
   "outputs": [],
   "source": [
    "import os\n",
    "import random\n",
    "import string\n",
    "\n",
    "universe_dir = os.listdir(\"universe\")\n",
    "\n",
    "def random_name():\n",
    "    return ''.join(random.choices(string.ascii_uppercase + string.digits, k=5))\n",
    "\n",
    "for file in universe_dir:\n",
    "    os.rename(\"universe/\" + file , \"universe/\" + random_name() + \".txt\")\n",
    "else:\n",
    "    print(\"renaming completed\")"
   ]
  }
 ],
 "metadata": {
  "kernelspec": {
   "display_name": "Python 3",
   "language": "python",
   "name": "python3"
  },
  "language_info": {
   "codemirror_mode": {
    "name": "ipython",
    "version": 2
   },
   "file_extension": ".py",
   "mimetype": "text/x-python",
   "name": "python",
   "nbconvert_exporter": "python",
   "pygments_lexer": "ipython2",
   "version": "2.7.6"
  }
 },
 "nbformat": 4,
 "nbformat_minor": 0
}