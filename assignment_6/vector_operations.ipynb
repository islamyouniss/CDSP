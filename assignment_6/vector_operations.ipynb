{
 "cells": [
  {
   "cell_type": "code",
   "execution_count": 11,
   "metadata": {
    "collapsed": true
   },
   "outputs": [
    {
     "name": "stdout",
     "output_type": "stream",
     "text": [
      "-30\n",
      "150.46121774044192\n"
     ]
    },
    {
     "data": {
      "text/plain": "True"
     },
     "execution_count": 11,
     "metadata": {},
     "output_type": "execute_result"
    }
   ],
   "source": [
    "import math\n",
    "import numpy as np\n",
    "\n",
    "def dot_product(a, b):\n",
    "    return (a[0] * b[0]) + (a[1] * b[1])\n",
    "\n",
    "def angle_between_vectors(a, b):\n",
    "    mag_a = math.sqrt(pow(a[0], 2) + pow(a[1], 2))\n",
    "    mag_b = math.sqrt(pow(b[0], 2) + pow(b[1], 2))\n",
    "    return  math.degrees(math.acos((dot_product(a, b) / (mag_a * mag_b))))\n",
    "\n",
    "\n",
    "u = (5, -2)\n",
    "v = (-4, 5)\n",
    "print(dot_product(u, v))\n",
    "print(angle_between_vectors(u, v))\n",
    "\n",
    "def verify_dot_product(a, b):\n",
    "    return True if np.dot(a, b) == dot_product(a, b) else False\n",
    "\n",
    "verify_dot_product(u, v)"
   ]
  }
 ],
 "metadata": {
  "kernelspec": {
   "name": "pycharm-57b52e4c",
   "language": "python",
   "display_name": "PyCharm (tasks)"
  },
  "language_info": {
   "codemirror_mode": {
    "name": "ipython",
    "version": 2
   },
   "file_extension": ".py",
   "mimetype": "text/x-python",
   "name": "python",
   "nbconvert_exporter": "python",
   "pygments_lexer": "ipython2",
   "version": "2.7.6"
  }
 },
 "nbformat": 4,
 "nbformat_minor": 0
}