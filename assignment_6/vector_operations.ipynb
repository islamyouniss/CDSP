{
 "cells": [
  {
   "cell_type": "code",
   "execution_count": 5,
   "metadata": {
    "collapsed": true
   },
   "outputs": [],
   "source": [
    "import math\n",
    "import numpy as np"
   ]
  },
  {
   "cell_type": "code",
   "execution_count": 19,
   "outputs": [],
   "source": [
    "u = (8, 8)\n",
    "v = (-8, -8)"
   ],
   "metadata": {
    "collapsed": false,
    "pycharm": {
     "name": "#%%\n"
    }
   }
  },
  {
   "cell_type": "code",
   "execution_count": 25,
   "outputs": [],
   "source": [
    "def dot_product(a, b):\n",
    "    if len(a) == len(b):\n",
    "        return (a[0] * b[0]) + (a[1] * b[1])\n",
    "    else:\n",
    "        raise Exception(\"length of two vectors must be equal\")\n",
    "\n",
    "def angle_between_vectors(a, b):\n",
    "    mag_a = math.sqrt(pow(a[0], 2) + pow(a[1], 2))\n",
    "    mag_b = math.sqrt(pow(b[0], 2) + pow(b[1], 2))\n",
    "    return  math.degrees(math.acos((dot_product(a, b) / (mag_a * mag_b))))\n",
    "\n",
    "def verify_dot_product(a, b):\n",
    "    return True if np.dot(a, b) == dot_product(a, b) else False"
   ],
   "metadata": {
    "collapsed": false,
    "pycharm": {
     "name": "#%%\n"
    }
   }
  },
  {
   "cell_type": "code",
   "execution_count": 26,
   "outputs": [
    {
     "name": "stdout",
     "output_type": "stream",
     "text": [
      "-128 True 179.99999879258172\n"
     ]
    }
   ],
   "source": [
    "print(dot_product(u, v), verify_dot_product(u, v), angle_between_vectors(u,v))"
   ],
   "metadata": {
    "collapsed": false,
    "pycharm": {
     "name": "#%%\n"
    }
   }
  },
  {
   "cell_type": "code",
   "execution_count": 22,
   "outputs": [],
   "source": [
    "def vectors_dot(a, b):\n",
    "    result = 0\n",
    "    if len(a) == len(b):\n",
    "        for i, element in enumerate(a):\n",
    "            result += a[i] * b[i]\n",
    "    else:\n",
    "        raise Exception(\"length of two vectors must be equal\")\n",
    "    return result\n",
    "\n",
    "def vectors_angle(a, b):\n",
    "    if len(a) == len(b):\n",
    "        a_magnitude = math.sqrt(sum((n ** 2 for n in a)))\n",
    "        b_magnitude = math.sqrt(sum((n ** 2 for n in b)))\n",
    "        return  math.degrees(math.acos((dot_product(a, b) / (a_magnitude * b_magnitude))))\n",
    "    else:\n",
    "        raise Exception(\"length of two vectors must be equal\")\n",
    "\n",
    "def verify_results(a, b):\n",
    "    return True if np.dot(a, b) == vectors_dot(a, b) else False"
   ],
   "metadata": {
    "collapsed": false,
    "pycharm": {
     "name": "#%%\n"
    }
   }
  },
  {
   "cell_type": "code",
   "execution_count": 24,
   "outputs": [
    {
     "name": "stdout",
     "output_type": "stream",
     "text": [
      "-128 True 179.99999879258172\n"
     ]
    }
   ],
   "source": [
    "print(vectors_dot(u, v), verify_results(u, v), vectors_angle(u,v))"
   ],
   "metadata": {
    "collapsed": false,
    "pycharm": {
     "name": "#%%\n"
    }
   }
  }
 ],
 "metadata": {
  "kernelspec": {
   "name": "pycharm-57b52e4c",
   "language": "python",
   "display_name": "PyCharm (tasks)"
  },
  "language_info": {
   "codemirror_mode": {
    "name": "ipython",
    "version": 2
   },
   "file_extension": ".py",
   "mimetype": "text/x-python",
   "name": "python",
   "nbconvert_exporter": "python",
   "pygments_lexer": "ipython2",
   "version": "2.7.6"
  }
 },
 "nbformat": 4,
 "nbformat_minor": 0
}