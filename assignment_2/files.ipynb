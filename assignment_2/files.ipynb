{
 "cells": [
  {
   "cell_type": "code",
   "execution_count": 84,
   "metadata": {},
   "outputs": [],
   "source": [
    "with open('test.txt', 'w+') as new_file:\n",
    "    new_file.write('hello world \\n' * 5)\n",
    "\n",
    "# read file and convert its content to be all caps\n",
    "with open(\"test.txt\", \"r\") as file_with_content:\n",
    "    upper_file_content = file_with_content.read().upper()\n",
    "\n",
    "# write all caps content into the file \n",
    "with open(\"test.txt\", \"w\") as file_with_lower:\n",
    "    file_with_lower.write(upper_file_content)\n",
    "\n",
    "#read file and capitalize third line \n",
    "with open(\"test.txt\", \"r\") as all_caps_file:\n",
    "    all_lines = all_caps_file.readlines()\n",
    "    all_lines[2] = all_lines[2].capitalize()\n",
    "\n",
    "with open(\"test.txt\", \"w\") as upper_file:\n",
    "    upper_file.writelines(all_lines)\n",
    "\n",
    "with open(\"test.txt\", \"a+\") as append_to_file:\n",
    "    append_to_file.write(\"I Love Python\")"
   ]
  },
  {
   "cell_type": "code",
   "execution_count": null,
   "metadata": {},
   "outputs": [],
   "source": []
  }
 ],
 "metadata": {
  "kernelspec": {
   "display_name": "Python 3",
   "language": "python",
   "name": "python3"
  },
  "language_info": {
   "codemirror_mode": {
    "name": "ipython",
    "version": 3
   },
   "file_extension": ".py",
   "mimetype": "text/x-python",
   "name": "python",
   "nbconvert_exporter": "python",
   "pygments_lexer": "ipython3",
   "version": "3.8.5"
  }
 },
 "nbformat": 4,
 "nbformat_minor": 4
}
