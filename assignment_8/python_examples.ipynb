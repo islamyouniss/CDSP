{
 "cells": [
  {
   "cell_type": "markdown",
   "source": [
    "# Add Two Matrices"
   ],
   "metadata": {
    "collapsed": false
   }
  },
  {
   "cell_type": "code",
   "execution_count": 3,
   "outputs": [],
   "source": [
    "m1 = [\n",
    "    [12, 7, 3],\n",
    "    [4 , 5, 6],\n",
    "    [7 , 8, 9]\n",
    "]\n",
    "m2 = [\n",
    "    [5, 8, 1],\n",
    "    [6, 7, 3],\n",
    "    [4, 5, 9]\n",
    "]"
   ],
   "metadata": {
    "collapsed": false,
    "pycharm": {
     "name": "#%%\n"
    }
   }
  },
  {
   "cell_type": "code",
   "execution_count": 4,
   "outputs": [
    {
     "data": {
      "text/plain": "[[17, 15, 4], [10, 12, 9], [11, 13, 18]]"
     },
     "execution_count": 4,
     "metadata": {},
     "output_type": "execute_result"
    }
   ],
   "source": [
    "def add_matrices(matrix_1, matrix_2):\n",
    "    result = []\n",
    "    if len(matrix_1) == len(matrix_2):\n",
    "        for i in range(len(matrix_1)):\n",
    "            if type(matrix_1[i]) == list and type(matrix_2[i]) == list:\n",
    "                if len(matrix_1[i]) == len(matrix_2[i]):\n",
    "                    result.append([])\n",
    "                    for j in range(len(matrix_1[0])):\n",
    "                        result[i].append(matrix_1[i][j] + matrix_2[i][j])\n",
    "                else:\n",
    "                    raise Exception(\"The two matrices must be the same length\")\n",
    "            else:\n",
    "                raise Exception(\"Matrices only are allowed\")\n",
    "        return result\n",
    "    else:\n",
    "        raise Exception(\"The two matrices must be the same length\")\n",
    "\n",
    "add_matrices(m1, m2)"
   ],
   "metadata": {
    "collapsed": false,
    "pycharm": {
     "name": "#%%\n"
    }
   }
  },
  {
   "cell_type": "markdown",
   "source": [
    "# Matrix Transpose"
   ],
   "metadata": {
    "collapsed": false,
    "pycharm": {
     "name": "#%% md\n"
    }
   }
  },
  {
   "cell_type": "code",
   "execution_count": 31,
   "outputs": [
    {
     "data": {
      "text/plain": "[[12, 4, 7], [7, 5, 8], [3, 6, 9]]"
     },
     "execution_count": 31,
     "metadata": {},
     "output_type": "execute_result"
    }
   ],
   "source": [
    "def transpose_matrix(matrix):\n",
    "    result = []\n",
    "    for i in range(len(matrix)):\n",
    "        if type(matrix[i]) == list:\n",
    "            for j in range(len(matrix[i])):\n",
    "                if len(result) != len(matrix[i]):\n",
    "                    result.append([])\n",
    "                result[j].append(matrix[i][j])\n",
    "        else:\n",
    "            raise Exception(\"Matrices only are allowed\")\n",
    "    return result\n",
    "\n",
    "transpose_matrix(m1)"
   ],
   "metadata": {
    "collapsed": false,
    "pycharm": {
     "name": "#%%\n"
    }
   }
  },
  {
   "cell_type": "markdown",
   "source": [
    "# Matrix Multiplication\n"
   ],
   "metadata": {
    "collapsed": false,
    "pycharm": {
     "name": "#%% md\n"
    }
   }
  },
  {
   "cell_type": "code",
   "execution_count": 16,
   "outputs": [
    {
     "data": {
      "text/plain": "[[58, 64], [139, 154]]"
     },
     "execution_count": 16,
     "metadata": {},
     "output_type": "execute_result"
    }
   ],
   "source": [
    "m3 = [\n",
    "    [1, 2, 3],\n",
    "    [4, 5, 6]\n",
    "]\n",
    "m4 = [\n",
    "    [7, 8],\n",
    "    [9, 10],\n",
    "    [11, 12]\n",
    "]\n",
    "\n",
    "def multiply_values(n, lst2):\n",
    "    return n * lst2\n",
    "\n",
    "\n",
    "def multiply_matrices(matrix_1, matrix_2):\n",
    "    result = []\n",
    "    if len(matrix_1) == len(matrix_2[0]):\n",
    "        result = [[sum(a*b for a,b in zip(matrix_1_row,matrix_2_col)) for matrix_2_col in zip(*matrix_2)] for matrix_1_row in matrix_1]\n",
    "        return result\n",
    "    else:\n",
    "        raise Exception(\"Rows length in first matrix must equals Columns length in second matrix\")\n",
    "\n",
    "multiply_matrices(m3, m4)"
   ],
   "metadata": {
    "collapsed": false,
    "pycharm": {
     "name": "#%%\n"
    }
   }
  },
  {
   "cell_type": "markdown",
   "source": [
    "# Remove Non letters characters from text"
   ],
   "metadata": {
    "collapsed": false,
    "pycharm": {
     "name": "#%% md\n"
    }
   }
  },
  {
   "cell_type": "code",
   "execution_count": 22,
   "outputs": [
    {
     "name": "stdout",
     "output_type": "stream",
     "text": [
      "I m Islam how are you today today today\n"
     ]
    }
   ],
   "source": [
    "import re\n",
    "\n",
    "def get_text_only(txt):\n",
    "    return re.findall(r\"[A-Za-z0-9]+\", txt)\n",
    "\n",
    "print(\" \".join(get_text_only(\"I'm Islam :) how are you today today today ? !!\")))"
   ],
   "metadata": {
    "collapsed": false,
    "pycharm": {
     "name": "#%%\n"
    }
   }
  },
  {
   "cell_type": "markdown",
   "source": [
    "# count words in text"
   ],
   "metadata": {
    "collapsed": false,
    "pycharm": {
     "name": "#%% md\n"
    }
   }
  },
  {
   "cell_type": "code",
   "execution_count": 24,
   "outputs": [
    {
     "name": "stdout",
     "output_type": "stream",
     "text": [
      "{'are': 1, 'today': 3, 'how': 1, 'I': 2, 'm': 1, 'Islam': 1, 'you': 1}\n"
     ]
    }
   ],
   "source": [
    "def word_count(text):\n",
    "    return {i:get_text_only(text).count(i) for i in set(get_text_only(text))}\n",
    "\n",
    "print(word_count(\"I I'm Islam :) how are you today today today ? !!\"))"
   ],
   "metadata": {
    "collapsed": false,
    "pycharm": {
     "name": "#%%\n"
    }
   }
  },
  {
   "cell_type": "markdown",
   "source": [
    "# Count Vowels"
   ],
   "metadata": {
    "collapsed": false,
    "pycharm": {
     "name": "#%% md\n"
    }
   }
  },
  {
   "cell_type": "code",
   "execution_count": 25,
   "outputs": [],
   "source": [
    "def count_vowels(txt):\n",
    "    vowels = {\"a\": 0, \"e\": 0, \"i\": 0, \"o\": 0, \"u\": 0}\n",
    "    for vowel in vowels.keys():\n",
    "        if txt.lower().count(vowel):\n",
    "            vowels[vowel] += 1\n",
    "    return vowels"
   ],
   "metadata": {
    "collapsed": false,
    "pycharm": {
     "name": "#%%\n"
    }
   }
  },
  {
   "cell_type": "markdown",
   "source": [
    "# Reverse Int"
   ],
   "metadata": {
    "collapsed": false,
    "pycharm": {
     "name": "#%% md\n"
    }
   }
  },
  {
   "cell_type": "code",
   "execution_count": 26,
   "outputs": [
    {
     "name": "stdout",
     "output_type": "stream",
     "text": [
      "321\n"
     ]
    }
   ],
   "source": [
    "def reverse_int(num):\n",
    "    return int(str(int(num))[::-1])\n",
    "\n",
    "x = reverse_int(123.5)\n",
    "print(x)"
   ],
   "metadata": {
    "collapsed": false,
    "pycharm": {
     "name": "#%%\n"
    }
   }
  }
 ],
 "metadata": {
  "kernelspec": {
   "display_name": "Python 3",
   "language": "python",
   "name": "python3"
  },
  "language_info": {
   "codemirror_mode": {
    "name": "ipython",
    "version": 2
   },
   "file_extension": ".py",
   "mimetype": "text/x-python",
   "name": "python",
   "nbconvert_exporter": "python",
   "pygments_lexer": "ipython2",
   "version": "2.7.6"
  }
 },
 "nbformat": 4,
 "nbformat_minor": 0
}